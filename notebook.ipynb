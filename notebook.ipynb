{
 "cells": [
  {
   "cell_type": "code",
   "execution_count": 4,
   "id": "b1845579",
   "metadata": {},
   "outputs": [],
   "source": [
    "import numpy as np\n",
    "import pandas as pd\n",
    "import matplotlib.pyplot as plt\n",
    "import seaborn as sns"
   ]
  },
  {
   "cell_type": "code",
   "execution_count": 14,
   "id": "47691ef4",
   "metadata": {},
   "outputs": [
    {
     "name": "stdout",
     "output_type": "stream",
     "text": [
      "columns = Index(['rowid', 'kepid', 'kepoi_name', 'kepler_name', 'koi_disposition',\n",
      "       'koi_pdisposition', 'koi_score', 'koi_fpflag_nt', 'koi_fpflag_ss',\n",
      "       'koi_fpflag_co', 'koi_fpflag_ec', 'koi_period', 'koi_period_err1',\n",
      "       'koi_period_err2', 'koi_time0bk', 'koi_time0bk_err1',\n",
      "       'koi_time0bk_err2', 'koi_impact', 'koi_impact_err1', 'koi_impact_err2',\n",
      "       'koi_duration', 'koi_duration_err1', 'koi_duration_err2', 'koi_depth',\n",
      "       'koi_depth_err1', 'koi_depth_err2', 'koi_prad', 'koi_prad_err1',\n",
      "       'koi_prad_err2', 'koi_teq', 'koi_insol', 'koi_insol_err1',\n",
      "       'koi_insol_err2', 'koi_model_snr', 'koi_tce_plnt_num', 'koi_steff',\n",
      "       'koi_steff_err1', 'koi_steff_err2', 'koi_slogg', 'koi_slogg_err1',\n",
      "       'koi_slogg_err2', 'koi_srad', 'koi_srad_err1', 'koi_srad_err2', 'ra',\n",
      "       'dec', 'koi_kepmag'],\n",
      "      dtype='object')\n",
      "\n",
      "\n",
      "Train set size = 6695\n",
      "Test set size = 1913\n",
      "CV set size = 956\n"
     ]
    }
   ],
   "source": [
    "df_train = pd.read_csv(\"data/train.csv\")\n",
    "df_cv = pd.read_csv(\"data/val.csv\")\n",
    "df_test = pd.read_csv(\"data/test.csv\")\n",
    "df_train.head()\n",
    "print(f\"columns = {df_train.columns}\")\n",
    "print(\"\\n\")\n",
    "print(f\"Train set size = {df_train.shape[0]}\")\n",
    "print(f\"Test set size = {df_test.shape[0]}\")\n",
    "print(f\"CV set size = {df_cv.shape[0]}\")"
   ]
  },
  {
   "cell_type": "code",
   "execution_count": null,
   "id": "00a8a06f",
   "metadata": {},
   "outputs": [],
   "source": []
  }
 ],
 "metadata": {
  "kernelspec": {
   "display_name": "venv",
   "language": "python",
   "name": "python3"
  },
  "language_info": {
   "codemirror_mode": {
    "name": "ipython",
    "version": 3
   },
   "file_extension": ".py",
   "mimetype": "text/x-python",
   "name": "python",
   "nbconvert_exporter": "python",
   "pygments_lexer": "ipython3",
   "version": "3.12.0"
  }
 },
 "nbformat": 4,
 "nbformat_minor": 5
}
